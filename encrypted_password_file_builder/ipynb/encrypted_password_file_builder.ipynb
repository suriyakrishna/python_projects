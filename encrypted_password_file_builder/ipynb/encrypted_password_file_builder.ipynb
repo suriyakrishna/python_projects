{
 "cells": [
  {
   "cell_type": "markdown",
   "metadata": {},
   "source": [
    "###### Encrypted Password File Builder"
   ]
  },
  {
   "cell_type": "code",
   "execution_count": 1,
   "metadata": {},
   "outputs": [],
   "source": [
    "from cryptography.fernet import Fernet\n",
    "key = Fernet.generate_key()\n",
    "print(key)"
   ]
  },
  {
   "cell_type": "code",
   "execution_count": 2,
   "metadata": {},
   "outputs": [
    {
     "name": "stdout",
     "output_type": "stream",
     "text": [
      "b'gAAAAABey28VfjJIGlTEP46SEP8nr3jOapG64TsODNqiVzeBjwiUqBr2fjMoUGDDoLa9eSTi8QSP-ylrBAEyCJSfJGC96TCb0w=='\n"
     ]
    }
   ],
   "source": [
    "key = b'pRmgMa8T0INjEAfksaq2aafzoZXEuwKI7wDe4c1F8AY='\n",
    "cipher_suite = Fernet(key)\n",
    "ciphered_text = cipher_suite.encrypt(b\"mypassword\")   #required to be bytes\n",
    "print(ciphered_text) "
   ]
  },
  {
   "cell_type": "code",
   "execution_count": 3,
   "metadata": {},
   "outputs": [
    {
     "name": "stdout",
     "output_type": "stream",
     "text": [
      "b'mypassword'\n"
     ]
    }
   ],
   "source": [
    "from cryptography.fernet import Fernet\n",
    "cipher_suite = Fernet(key)\n",
    "unciphered_text = (cipher_suite.decrypt(ciphered_text))\n",
    "print(unciphered_text)"
   ]
  },
  {
   "cell_type": "code",
   "execution_count": 4,
   "metadata": {},
   "outputs": [],
   "source": [
    "key_file_path = r'C:\\Users\\Kishan\\Desktop\\python_projects\\encrypted_password_file_builder\\password_files\\key.bin'\n",
    "password_file_path = r'C:\\Users\\Kishan\\Desktop\\python_projects\\encrypted_password_file_builder\\password_files\\password.bin'\n",
    "\n",
    "with open(key_file_path, 'wb') as key_file:\n",
    "    key_file.write(key)\n",
    "\n",
    "with open(password_file_path, 'wb') as password_file:\n",
    "    password_file.write(ciphered_text)"
   ]
  },
  {
   "cell_type": "code",
   "execution_count": 5,
   "metadata": {},
   "outputs": [],
   "source": [
    "with open(key_file_path, 'rb') as key_file:\n",
    "    key = key_file.read()\n",
    "\n",
    "with open(password_file_path, 'rb') as password_file:\n",
    "    ciphered_text = password_file.read()"
   ]
  },
  {
   "cell_type": "code",
   "execution_count": 20,
   "metadata": {},
   "outputs": [
    {
     "name": "stdout",
     "output_type": "stream",
     "text": [
      "Overwriting ../scripts/encrypted_password_file_builder.py\n"
     ]
    }
   ],
   "source": [
    "%%writefile ../scripts/encrypted_password_file_builder.py\n",
    "from cryptography.fernet import Fernet\n",
    "import os\n",
    "import getpass\n",
    "import argparse\n",
    "\n",
    "class encrypt_password:\n",
    "    \n",
    "    def __init__(self,password,file_location=None):\n",
    "        self.password = password\n",
    "        if file_location != None:\n",
    "            self.key_file_location = os.path.join(file_location, \"key.bin\")\n",
    "            self.password_file_location = os.path.join(file_location, \"password.bin\")\n",
    "        else:\n",
    "            self.key_file_location = \"key.bin\"\n",
    "            self.password_file_location = \"password.bin\"\n",
    "        \n",
    "    def generate_fernet_key(self):\n",
    "        return Fernet.generate_key()\n",
    "    \n",
    "    def write_to_file(self, file_name, text):\n",
    "        with open(file_name, 'wb') as file:\n",
    "            file.write(text)\n",
    "    \n",
    "    def encrypt(self):\n",
    "        key = self.generate_fernet_key()\n",
    "        self.write_to_file(self.key_file_location, key)\n",
    "        cipher_suite = Fernet(key)\n",
    "        ciphered_text = cipher_suite.encrypt(bytes(self.password, 'utf-8'))\n",
    "        self.write_to_file(self.password_file_location, ciphered_text)\n",
    "        print(\"Key '{}' and Password '{}' files generated successfully.\".format(self.key_file_location, self.password_file_location))\n",
    "        \n",
    "def get_password():\n",
    "    boolean = True\n",
    "    while(boolean):\n",
    "        password = getpass.getpass(\"Enter Your Password: \")\n",
    "        check_password = getpass.getpass(\"Retype Your Password: \")\n",
    "        if password == \"\":\n",
    "            print(\"Password should not be empty.\")\n",
    "        elif password == check_password:\n",
    "            boolean = False\n",
    "        else:\n",
    "            print(\"Password doesn't matches. Please try again.\")\n",
    "    return password\n",
    "        \n",
    "def main():\n",
    "    parser = argparse.ArgumentParser(description='Encrypted Password File Builder')\n",
    "    parser.add_argument('-l', '--fileLocation', help='Password File Location', default=None)\n",
    "    args = parser.parse_args()\n",
    "    file_location = args.fileLocation\n",
    "    password = get_password()\n",
    "    if (file_location != None):\n",
    "        e = encrypt_password(password, file_location)\n",
    "    else:\n",
    "        e = encrypt_password(password)\n",
    "    e.encrypt()\n",
    "    \n",
    "if __name__ == \"__main__\":\n",
    "    main()"
   ]
  },
  {
   "cell_type": "code",
   "execution_count": 17,
   "metadata": {},
   "outputs": [
    {
     "name": "stdout",
     "output_type": "stream",
     "text": [
      "Overwriting ../scripts/password_decryptor.py\n"
     ]
    }
   ],
   "source": [
    "%%writefile ../scripts/password_decryptor.py\n",
    "from cryptography.fernet import Fernet\n",
    "from sys import exit\n",
    "\n",
    "def get_key_from_file(file_location):\n",
    "    try:\n",
    "        with open(file_location, 'rb') as file:\n",
    "            key = file.read()\n",
    "        return key\n",
    "    except FileNotFoundError as f:\n",
    "        print(\"File Not Found: {}. Exiting..\".format(file_location))\n",
    "        exit(1)\n",
    "        \n",
    "def decrypt_password(key_file_location, password_file_location):\n",
    "    cipher_suite = Fernet(get_key_from_file(key_file_location))\n",
    "    unciphered_text = (cipher_suite.decrypt(get_key_from_file(password_file_location)))\n",
    "    return str(unciphered_text, 'utf-8')"
   ]
  },
  {
   "cell_type": "code",
   "execution_count": 8,
   "metadata": {},
   "outputs": [],
   "source": [
    "# !python ../scripts/encrypted_password_file_builder.py"
   ]
  },
  {
   "cell_type": "code",
   "execution_count": 26,
   "metadata": {},
   "outputs": [
    {
     "name": "stdout",
     "output_type": "stream",
     "text": [
      "may@2020\n"
     ]
    }
   ],
   "source": [
    "# Decrypt Password\n",
    "import sys\n",
    "\n",
    "sys.path.append(\"../scripts\")\n",
    "\n",
    "from password_decryptor import decrypt_password\n",
    "print(decrypt_password(r\"C:\\Users\\Kishan\\Desktop\\python_projects\\encrypted_password_file_builder\\password_files\\key.bin\", r\"C:\\Users\\Kishan\\Desktop\\python_projects\\encrypted_password_file_builder\\password_files\\password.bin\"))\n",
    "# print(decrypt_password(key_file_location=\"../scripts/key.bin\", password_file_location=\"../scripts/password.bin\"))\n"
   ]
  },
  {
   "cell_type": "code",
   "execution_count": null,
   "metadata": {},
   "outputs": [],
   "source": []
  }
 ],
 "metadata": {
  "kernelspec": {
   "display_name": "Python 3",
   "language": "python",
   "name": "python3"
  },
  "language_info": {
   "codemirror_mode": {
    "name": "ipython",
    "version": 3
   },
   "file_extension": ".py",
   "mimetype": "text/x-python",
   "name": "python",
   "nbconvert_exporter": "python",
   "pygments_lexer": "ipython3",
   "version": "3.6.4"
  }
 },
 "nbformat": 4,
 "nbformat_minor": 2
}
