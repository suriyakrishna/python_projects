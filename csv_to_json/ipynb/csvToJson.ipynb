{
 "cells": [
  {
   "cell_type": "code",
   "execution_count": 3,
   "metadata": {},
   "outputs": [
    {
     "name": "stdout",
     "output_type": "stream",
     "text": [
      "CSV FILE LOCATION: C:\\Users\\Kishan\\Desktop\\python_projects\\csv_to_json\\input\\employee.csv\n"
     ]
    }
   ],
   "source": [
    "# CSV FILE PATH\n",
    "CSV_FILE_LOCATION = r\"C:\\Users\\Kishan\\Desktop\\python_projects\\csv_to_json\\input\\employee.csv\"\n",
    "SCHEMA_HEADER_COLUMNS = \"\"\n",
    "SEPARATOR = \",\"\n",
    "OUTPUT_LOCATION = r\"C:\\Users\\Kishan\\Desktop\\python_projects\\csv_to_json\\output\\employee.json\"\n",
    "LOG_FILE= r\"C:\\Users\\Kishan\\Desktop\\python_projects\\csv_to_json\\logs\\log_file.logs\"\n",
    "#CHECK FILE EXISTS\n",
    "\n",
    "import os\n",
    "print(\"CSV FILE LOCATION: {}\".format(CSV_FILE_LOCATION))"
   ]
  },
  {
   "cell_type": "code",
   "execution_count": 35,
   "metadata": {},
   "outputs": [],
   "source": [
    "import os\n",
    "import pandas as pd\n",
    "import logging\n",
    "import sys\n",
    "\n",
    "class csv_to_json:\n",
    "    def __init__(self, input_file_path, output_file_path, column_names=None, delimiter=\",\"):\n",
    "        self.input_file_path = input_file_path\n",
    "        self.output_file_path = output_file_path\n",
    "        if(isinstance(column_names, list)):\n",
    "            self.column_names = column_names\n",
    "        elif(isinstance(column_names, str)):\n",
    "            self.column_names = list(map(lambda x: x.strip(), column_names.split(\",\")))\n",
    "        else:\n",
    "            self.column_names = column_names\n",
    "        self.delimiter = delimiter\n",
    "        \n",
    "    def file_exists_check(self):\n",
    "        return os.path.exists(self.input_file_path)\n",
    "\n",
    "    def is_file(self):\n",
    "        return os.path.isfile(self.input_file_path)\n",
    "    \n",
    "    def transform_column_names(self, df):\n",
    "        columns_dict = {}\n",
    "        for i in map(lambda x: (x,x.strip().replace(' ','_').lower()), df.columns):\n",
    "            columns_dict[i[0]] = i[1]\n",
    "        return columns_dict\n",
    "\n",
    "    def convert(self):\n",
    "        if(self.column_names == None):\n",
    "            df = pd.read_csv(self.input_file_path, delimiter=self.delimiter)\n",
    "        else:\n",
    "            df = pd.read_csv(self.input_file_path, delimiter=self.delimiter, names=self.column_names)\n",
    "        df = df.rename(columns=self.transform_column_names(df))\n",
    "        df.to_json(orient=\"records\", path_or_buf=self.output_file_path)\n",
    "        "
   ]
  },
  {
   "cell_type": "code",
   "execution_count": 46,
   "metadata": {},
   "outputs": [],
   "source": [
    "def main():\n",
    "    # Create a custom logger\n",
    "    logger = logging.getLogger(__name__)\n",
    "    # Create handlers\n",
    "    c_handler = logging.StreamHandler()\n",
    "    f_handler = logging.FileHandler('temp.log')\n",
    "    c_handler.setLevel(logging.INFO)\n",
    "    f_handler.setLevel(logging.ERROR)\n",
    "    \n",
    "    # Create formatters and add it to handlers\n",
    "    c_format = logging.Formatter('%(asctime)s - %(name)s - %(levelname)s - %(message)s')\n",
    "    f_format = logging.Formatter('%(asctime)s - %(name)s - %(levelname)s - %(message)s')\n",
    "    c_handler.setFormatter(c_format)\n",
    "    f_handler.setFormatter(f_format)\n",
    "\n",
    "    # Add handlers to the logger\n",
    "    logger.addHandler(c_handler)\n",
    "    logger.addHandler(f_handler)\n",
    "    \n",
    "    converter = csv_to_json(CSV_FILE_LOCATION, OUTPUT_LOCATION)\n",
    "    logger.info(\"PROCESS STARTED\")\n",
    "    if(converter.is_file()):\n",
    "        logger.info(\"INPUT FILE PATH IS FILE '{}'\".format(converter.input_file_path))\n",
    "    else:\n",
    "        logger.error(\"INPUT FILE PATH IS NOT FILE '{}'\".format(converter.input_file_path))\n",
    "        sys.exit(1)\n",
    "        \n",
    "    if(converter.file_exists_check()):\n",
    "        logger.info(\"INPUT FILE EXISTS '{}'\".format(converter.input_file_path))\n",
    "    else:\n",
    "        logger.error(\"INPUT FILE DOSEN'T EXISTS '{}'\".format(converter.input_file_path))\n",
    "        sys.exit(1)\n",
    "    logger.info(\"CONVERTING CSV TO JSON\")\n",
    "    converter.convert()\n",
    "    logger.info(\"FILE CONVERTED SUCCESSFULLY\")\n",
    "    logger.info(\"CHECK OUTPUT LOCATION: '{}'\".format(converter.output_file_path))\n",
    "    c_handler.close()\n",
    "    f_handler.close()"
   ]
  },
  {
   "cell_type": "code",
   "execution_count": 47,
   "metadata": {},
   "outputs": [],
   "source": [
    "main()"
   ]
  },
  {
   "cell_type": "code",
   "execution_count": 52,
   "metadata": {},
   "outputs": [
    {
     "name": "stdout",
     "output_type": "stream",
     "text": [
      "Overwriting ../scripts/csv_to_json.py\n"
     ]
    }
   ],
   "source": [
    "%%writefile ../scripts/csv_to_json.py\n",
    "import argparse\n",
    "import json\n",
    "import logging\n",
    "import os\n",
    "import pandas as pd\n",
    "import sys\n",
    "from datetime import datetime\n",
    "from json import JSONDecodeError\n",
    "\n",
    "\n",
    "def read_config_file(file_path):\n",
    "    config = {}\n",
    "    try:\n",
    "        with open(file_path, 'r') as conf:\n",
    "            try:\n",
    "                config = json.load(conf)\n",
    "            except JSONDecodeError as e:\n",
    "                logging.error(\"JSON Exception: {}\".format(e))\n",
    "                logging.error(\"EXITING\")\n",
    "                sys.exit(1)\n",
    "    except FileNotFoundError as f:\n",
    "        logging.error(\"File Not Found Exception: {}\".format(f))\n",
    "        logging.error(\"EXITING\")\n",
    "        sys.exit(1)\n",
    "    return config\n",
    "\n",
    "\n",
    "class csv_to_json:\n",
    "    def __init__(self, input_file_path, output_file_path, column_names=None, delimiter=\",\"):\n",
    "        self.input_file_path = input_file_path\n",
    "        self.output_file_path = output_file_path\n",
    "        if (isinstance(column_names, list)):\n",
    "            self.column_names = column_names\n",
    "        elif (isinstance(column_names, str)):\n",
    "            self.column_names = list(map(lambda x: x.strip(), column_names.split(\",\")))\n",
    "        else:\n",
    "            self.column_names = column_names\n",
    "        self.delimiter = delimiter\n",
    "\n",
    "    def file_exists_check(self):\n",
    "        return os.path.exists(self.input_file_path)\n",
    "\n",
    "    def is_file(self):\n",
    "        return os.path.isfile(self.input_file_path)\n",
    "\n",
    "    def transform_column_names(self, df):\n",
    "        columns_dict = {}\n",
    "        for i in map(lambda x: (x, x.strip().replace(' ', '_').lower()), df.columns):\n",
    "            columns_dict[i[0]] = i[1]\n",
    "        return columns_dict\n",
    "\n",
    "    def convert(self):\n",
    "        if (self.column_names == None):\n",
    "            df = pd.read_csv(self.input_file_path, delimiter=self.delimiter, engine=\"python\")\n",
    "        else:\n",
    "            df = pd.read_csv(self.input_file_path, delimiter=self.delimiter, names=self.column_names, engine=\"python\")\n",
    "        df = df.rename(columns=self.transform_column_names(df))\n",
    "        df.to_json(orient=\"records\", path_or_buf=self.output_file_path)\n",
    "\n",
    "\n",
    "def main():\n",
    "    parser = argparse.ArgumentParser(description='CSV to JSON Converter')\n",
    "\n",
    "    parser.add_argument('-t', '--type', help='Configuration type JSON/ARGS', required=True)\n",
    "    parser.add_argument('-c', '--confFilePath', help='JSON Configuration File path', default=None)\n",
    "    parser.add_argument('-i', '--inputFilePath', help='Input CSV File Path', default=None)\n",
    "    parser.add_argument('-o', '--outputFilePath', help='Output path to store JSON File', default=None)\n",
    "    parser.add_argument('-d', '--delimiter', help='CSV File delimiter', default=\",\", type=str)\n",
    "    parser.add_argument('-l', '--logFilePath', help='Log File Path', default=None)\n",
    "    parser.add_argument('-n', '--columnNames', help='List of Column Names - For files without header', default=None)\n",
    "\n",
    "    args = parser.parse_args()\n",
    "    conf_type = args.type\n",
    "    conf_file_path = args.confFilePath\n",
    "    input_csv_file_path = args.inputFilePath\n",
    "    ouput_json_file_path = args.outputFilePath\n",
    "    delimiter = args.delimiter\n",
    "    log_file_path = args.logFilePath\n",
    "    column_names = args.columnNames\n",
    "\n",
    "    if (conf_type.lower() == \"json\" and conf_file_path != None):\n",
    "        config = read_config_file(conf_file_path)\n",
    "        config_keys = config.keys()\n",
    "        delimiter = \",\"\n",
    "        column_names = None\n",
    "        if \"input_file\" in config_keys:\n",
    "            input_csv_file_path = config[\"input_file\"]\n",
    "        else:\n",
    "            logging.error(\"input_file paramater not definied in the config JSON file\")\n",
    "            logging.error(\"EXITING\")\n",
    "            sys.exit()\n",
    "        if \"output_file\" in config_keys:\n",
    "            ouput_json_file_path = config[\"output_file\"]\n",
    "        else:\n",
    "            logging.error(\"output_file paramater not definied in the config JSON file\")\n",
    "            logging.error(\"EXITING\")\n",
    "            sys.exit()\n",
    "        if \"delimiter\" in config_keys:\n",
    "            delimiter = config[\"delimiter\"]\n",
    "        if \"column_names\" in config_keys:\n",
    "            column_names = config[\"column_names\"]\n",
    "        if \"log_file_path\" in config_keys:\n",
    "            log_file_path = config[\"log_file_path\"]\n",
    "    elif (conf_type.lower() == \"json\" and conf_file_path == None):\n",
    "        logging.error(\"--confFilePath is required arguments when type argument value is JSON\")\n",
    "        logging.error(\"EXITING\")\n",
    "        sys.exit(1)\n",
    "    else:\n",
    "        if (input_csv_file_path == None or ouput_json_file_path == None):\n",
    "            logging.error(\n",
    "                \"--inputFilePath and --outputFilePath are required arguments when type argument value is not JSON\")\n",
    "            logging.error(\"EXITING\")\n",
    "            sys.exit(1)\n",
    "    \n",
    "    # Create a custom logger\n",
    "    logger = logging.getLogger(__name__)\n",
    "    current_timestamp = datetime.now().strftime(\"%Y-%m-%d_%H_%M_%S\")\n",
    "    log_file_name = 'csv_to_json_' + str(current_timestamp) + '.logs'\n",
    "    if log_file_path != None:\n",
    "        log_file_name = os.path.join(log_file_path, log_file_name)\n",
    "    f_handler = logging.FileHandler(log_file_name)\n",
    "    f_format = logging.Formatter('%(asctime)s - %(name)s - %(levelname)s - %(message)s')\n",
    "    f_handler.setFormatter(f_format)\n",
    "    f_handler.setLevel(logging.DEBUG)\n",
    "    logger.addHandler(f_handler)\n",
    "    \n",
    "    logger.info(\"CONFIGURATION TYPE: {}\".format(conf_type))\n",
    "    if conf_file_path != None:\n",
    "        logger.info(\"CONF FILE PATH: '{}'\".format(conf_file_path))\n",
    "    if input_csv_file_path != None:\n",
    "        logger.info(\"INPUT CSV FILE PATH: '{}'\".format(input_csv_file_path))\n",
    "    if ouput_json_file_path != None:\n",
    "        logger.info(\"OUTPUT JSON FILE PATH: '{}'\".format(ouput_json_file_path))\n",
    "    logger.info(\"DELIMITER: {}\".format(delimiter))\n",
    "    if log_file_path != None:\n",
    "        logger.info(\"LOG FILE PATH: '{}'\".format(log_file_path))\n",
    "    if column_names != None:\n",
    "        logger.info(\"LIST OF COLUMN NAMES: {}\".format(column_names))\n",
    "\n",
    "    logger.info(\"PROCESS STARTED\")\n",
    "    if column_names != None:\n",
    "        converter = csv_to_json(input_csv_file_path, ouput_json_file_path, delimiter=delimiter, column_names=column_names)\n",
    "    else:\n",
    "        converter = csv_to_json(input_csv_file_path, ouput_json_file_path, delimiter=delimiter)\n",
    "\n",
    "    if (converter.is_file()):\n",
    "        logger.info(\"INPUT FILE PATH IS FILE '{}'\".format(converter.input_file_path))\n",
    "    else:\n",
    "        logger.error(\"INPUT FILE PATH IS NOT FILE '{}'\".format(converter.input_file_path))\n",
    "        logger.error(\"EXITING..\")\n",
    "        sys.exit(1)\n",
    "\n",
    "    if (converter.file_exists_check()):\n",
    "        logger.info(\"INPUT FILE EXISTS '{}'\".format(converter.input_file_path))\n",
    "    else:\n",
    "        logger.error(\"INPUT FILE DOSEN'T EXISTS '{}'\".format(converter.input_file_path))\n",
    "        logger.error(\"EXITING..\")\n",
    "        sys.exit(1)\n",
    "\n",
    "    logger.info(\"CONVERTING CSV TO JSON\")\n",
    "    converter.convert()\n",
    "    logger.info(\"FILE CONVERTED SUCCESSFULLY\")\n",
    "    logger.info(\"CHECK OUTPUT LOCATION: '{}'\".format(converter.output_file_path))\n",
    "\n",
    "\n",
    "if __name__ == \"__main__\":\n",
    "    log_frmt = '%(asctime)s - %(name)s - %(levelname)s - %(message)s'\n",
    "    logging.basicConfig(level=logging.DEBUG, format=log_frmt)\n",
    "    main()\n"
   ]
  },
  {
   "cell_type": "code",
   "execution_count": 45,
   "metadata": {},
   "outputs": [
    {
     "name": "stderr",
     "output_type": "stream",
     "text": [
      "2020-05-24 18:01:55,821 - __main__ - INFO - CONFIGURATION TYPE: ARGS\n",
      "2020-05-24 18:01:55,823 - __main__ - INFO - INPUT CSV FILE PATH: '../input/employee.csv'\n",
      "2020-05-24 18:01:55,823 - __main__ - INFO - OUTPUT JSON FILE PATH: '../output/emp.json'\n",
      "2020-05-24 18:01:55,823 - __main__ - INFO - DELIMITER: ,\n",
      "2020-05-24 18:01:55,823 - __main__ - INFO - LIST OF COLUMN NAMES: empid, nameprefix, firstname, middleinitial, lastname, gender, email, father'sname, mother'sname, mother'smaidenname, dateofbirth, timeofbirth, ageinyrs., weightinkgs., dateofjoining, quarterofjoining, halfofjoining, yearofjoining, monthofjoining, monthnameofjoining, shortmonth, dayofjoining, dowofjoining, shortdow, ageincompany(years), salary, last%hike, ssn, phoneno., placename, county, city, state, zip, region, username, password\n",
      "2020-05-24 18:01:55,824 - __main__ - INFO - PROCESS STARTED\n",
      "2020-05-24 18:01:55,824 - __main__ - INFO - INPUT FILE PATH IS FILE '../input/employee.csv'\n",
      "2020-05-24 18:01:55,824 - __main__ - INFO - INPUT FILE EXISTS '../input/employee.csv'\n",
      "2020-05-24 18:01:55,824 - __main__ - INFO - CONVERTING CSV TO JSON\n",
      "2020-05-24 18:01:55,875 - __main__ - INFO - FILE CONVERTED SUCCESSFULLY\n",
      "2020-05-24 18:01:55,875 - __main__ - INFO - CHECK OUTPUT LOCATION: '../output/emp.json'\n"
     ]
    }
   ],
   "source": [
    "!python ../scripts/csv_to_json.py -t ARGS -i ../input/employee.csv -o ../output/emp.json -n \"empid, nameprefix, firstname, middleinitial, lastname, gender, email, father'sname, mother'sname, mother'smaidenname, dateofbirth, timeofbirth, ageinyrs., weightinkgs., dateofjoining, quarterofjoining, halfofjoining, yearofjoining, monthofjoining, monthnameofjoining, shortmonth, dayofjoining, dowofjoining, shortdow, ageincompany(years), salary, last%hike, ssn, phoneno., placename, county, city, state, zip, region, username, password\" "
   ]
  },
  {
   "cell_type": "code",
   "execution_count": 25,
   "metadata": {},
   "outputs": [
    {
     "name": "stderr",
     "output_type": "stream",
     "text": [
      "2020-05-24 17:49:53,046 - __main__ - INFO - CONFIGURATION TYPE: json\n",
      "2020-05-24 17:49:53,047 - __main__ - INFO - CONF FILE PATH: '../conf_files/conf.json'\n",
      "2020-05-24 17:49:53,047 - __main__ - INFO - INPUT CSV FILE PATH: 'C:\\Users\\Kishan\\Desktop\\python_projects\\csv_to_json\\input\\employee.csv'\n",
      "2020-05-24 17:49:53,047 - __main__ - INFO - OUTPUT JSON FILE PATH: 'C:\\Users\\Kishan\\Desktop\\python_projects\\csv_to_json\\output\\employee.json'\n",
      "2020-05-24 17:49:53,047 - __main__ - INFO - DELIMITER: ,\n",
      "2020-05-24 17:49:53,047 - __main__ - INFO - LOG FILE PATH: 'C:\\Users\\Kishan\\Desktop\\python_projects\\csv_to_json\\logs'\n",
      "2020-05-24 17:49:53,049 - __main__ - INFO - PROCESS STARTED\n",
      "2020-05-24 17:49:53,049 - __main__ - INFO - INPUT FILE PATH IS FILE 'C:\\Users\\Kishan\\Desktop\\python_projects\\csv_to_json\\input\\employee.csv'\n",
      "2020-05-24 17:49:53,049 - __main__ - INFO - INPUT FILE EXISTS 'C:\\Users\\Kishan\\Desktop\\python_projects\\csv_to_json\\input\\employee.csv'\n",
      "2020-05-24 17:49:53,049 - __main__ - INFO - CONVERTING CSV TO JSON\n",
      "2020-05-24 17:49:53,116 - __main__ - INFO - FILE CONVERTED SUCCESSFULLY\n",
      "2020-05-24 17:49:53,116 - __main__ - INFO - CHECK OUTPUT LOCATION: 'C:\\Users\\Kishan\\Desktop\\python_projects\\csv_to_json\\output\\employee.json'\n"
     ]
    }
   ],
   "source": [
    "!python ../scripts/csv_to_json1.py -t json -c ../conf_files/conf.json"
   ]
  },
  {
   "cell_type": "code",
   "execution_count": 26,
   "metadata": {},
   "outputs": [
    {
     "name": "stdout",
     "output_type": "stream",
     "text": [
      "{\n",
      "\t\"input_file\" : \"C:\\\\Users\\\\Kishan\\\\Desktop\\\\python_projects\\\\csv_to_json\\\\input\\\\employee.csv\",\n",
      "\t\"output_file\" : \"C:\\\\Users\\\\Kishan\\\\Desktop\\\\python_projects\\\\csv_to_json\\\\output\\\\employee.json\",\n",
      "\t\"delimiter\" : \",\",\n",
      "\t\"log_file_path\" : \"C:\\\\Users\\\\Kishan\\\\Desktop\\\\python_projects\\\\csv_to_json\\\\logs\"\n",
      "}\n"
     ]
    }
   ],
   "source": [
    "!cat ../conf_files/conf.json"
   ]
  },
  {
   "cell_type": "code",
   "execution_count": 218,
   "metadata": {},
   "outputs": [],
   "source": [
    "config = read_config_file(conf_file_path)\n",
    "config_keys = config.keys()\n",
    "delimiter = \",\"\n",
    "column_names = None\n",
    "if \"input_file\" in config_keys:\n",
    "    input_csv_file_path = config[\"input_file\"]\n",
    "else:\n",
    "    print(\"input_file paramater not definied in the config JSON file\")\n",
    "    print(\"EXITING\")\n",
    "    sys.exit()\n",
    "if \"output_file\" in config_keys:\n",
    "    ouput_json_file_path = config[\"output_file\"]\n",
    "else:\n",
    "    print(\"output_file paramater not definied in the config JSON file\")\n",
    "    print(\"EXITING\")\n",
    "    sys.exit()\n",
    "if \"delimiter\" in config_keys:\n",
    "    delimiter = config[\"delimiter\"]\n",
    "if \"column_names\" in config_keys:\n",
    "    column_names = config[\"column_names\"]\n",
    "if \"log_file_path\" in config_keys:\n",
    "    log_file_path = config[\"log_file_path\"]"
   ]
  },
  {
   "cell_type": "code",
   "execution_count": 241,
   "metadata": {},
   "outputs": [],
   "source": [
    "import argparse"
   ]
  },
  {
   "cell_type": "code",
   "execution_count": 199,
   "metadata": {},
   "outputs": [
    {
     "name": "stdout",
     "output_type": "stream",
     "text": [
      "C:\\Users\\Kishan\\Desktop\\python_projects\\csv_to_json\\input\\employee.csv\n"
     ]
    }
   ],
   "source": [
    "print(input_csv_file_path)"
   ]
  },
  {
   "cell_type": "code",
   "execution_count": 39,
   "metadata": {},
   "outputs": [],
   "source": [
    "p = r\"C:\\Users\\Kishan\\Desktop\\python_projects\\csv_to_json\\input\\employee.csv\"\n",
    "\n",
    "import pandas as pd\n",
    "\n",
    "df = pd.read_csv(p)"
   ]
  },
  {
   "cell_type": "code",
   "execution_count": 43,
   "metadata": {},
   "outputs": [
    {
     "data": {
      "text/plain": [
       "\"empid, nameprefix, firstname, middleinitial, lastname, gender, email, father'sname, mother'sname, mother'smaidenname, dateofbirth, timeofbirth, ageinyrs., weightinkgs., dateofjoining, quarterofjoining, halfofjoining, yearofjoining, monthofjoining, monthnameofjoining, shortmonth, dayofjoining, dowofjoining, shortdow, ageincompany(years), salary, last%hike, ssn, phoneno., placename, county, city, state, zip, region, username, password\""
      ]
     },
     "execution_count": 43,
     "metadata": {},
     "output_type": "execute_result"
    }
   ],
   "source": [
    "\", \".join(map(lambda x: x.lower().strip().replace(\" \", \"\"), df.columns))"
   ]
  }
 ],
 "metadata": {
  "kernelspec": {
   "display_name": "Python 3",
   "language": "python",
   "name": "python3"
  },
  "language_info": {
   "codemirror_mode": {
    "name": "ipython",
    "version": 3
   },
   "file_extension": ".py",
   "mimetype": "text/x-python",
   "name": "python",
   "nbconvert_exporter": "python",
   "pygments_lexer": "ipython3",
   "version": "3.6.4"
  }
 },
 "nbformat": 4,
 "nbformat_minor": 2
}
